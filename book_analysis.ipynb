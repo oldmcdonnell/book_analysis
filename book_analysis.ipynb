{
 "cells": [
  {
   "cell_type": "markdown",
   "id": "53718c86-d3dc-499c-bfe9-55b1378156f9",
   "metadata": {},
   "source": [
    "# Load the book"
   ]
  },
  {
   "cell_type": "code",
   "execution_count": 10,
   "id": "84b5eaff-ce07-469c-b178-93618e8e74e9",
   "metadata": {},
   "outputs": [],
   "source": [
    "with open(\"miracle-in-the-andes.txt\", \"r\", encoding='utf-8') as file:\n",
    "    book = file.read()"
   ]
  },
  {
   "cell_type": "code",
   "execution_count": 12,
   "id": "9c296d17-10b5-43d0-9fd8-ecd0ed54a113",
   "metadata": {},
   "outputs": [
    {
     "data": {
      "text/plain": [
       "str"
      ]
     },
     "execution_count": 12,
     "metadata": {},
     "output_type": "execute_result"
    }
   ],
   "source": [
    "type(book)"
   ]
  },
  {
   "cell_type": "markdown",
   "id": "bf281097-ae47-4984-9b87-002e7a590ccf",
   "metadata": {},
   "source": [
    "# Number of Chapter"
   ]
  },
  {
   "cell_type": "markdown",
   "id": "96ea0cb1-2ead-42b4-a571-8be899e56240",
   "metadata": {},
   "source": [
    "### string method"
   ]
  },
  {
   "cell_type": "code",
   "execution_count": 13,
   "id": "2fbccdfe-5b15-46f0-9b8a-7a1128f8c3e5",
   "metadata": {},
   "outputs": [
    {
     "data": {
      "text/plain": [
       "11"
      ]
     },
     "execution_count": 13,
     "metadata": {},
     "output_type": "execute_result"
    }
   ],
   "source": [
    "book.count(\"Chapter\")"
   ]
  },
  {
   "cell_type": "markdown",
   "id": "d44b7286-daf6-4e3f-bdd1-05c42c558696",
   "metadata": {},
   "source": [
    "### wit regex"
   ]
  },
  {
   "cell_type": "code",
   "execution_count": 15,
   "id": "96dda155-0a78-4482-b9ae-4523b1d499d4",
   "metadata": {},
   "outputs": [],
   "source": [
    "import re"
   ]
  },
  {
   "cell_type": "code",
   "execution_count": 20,
   "id": "b2fa5358-52e3-4188-bae1-bde085dd00c3",
   "metadata": {},
   "outputs": [
    {
     "data": {
      "text/plain": [
       "10"
      ]
     },
     "execution_count": 20,
     "metadata": {},
     "output_type": "execute_result"
    }
   ],
   "source": [
    "pattern = re.compile(\"Chapter [0-9]+\")\n",
    "findings = re.findall(pattern, book)\n",
    "len(findings)"
   ]
  }
 ],
 "metadata": {
  "kernelspec": {
   "display_name": "Python 3 (ipykernel)",
   "language": "python",
   "name": "python3"
  },
  "language_info": {
   "codemirror_mode": {
    "name": "ipython",
    "version": 3
   },
   "file_extension": ".py",
   "mimetype": "text/x-python",
   "name": "python",
   "nbconvert_exporter": "python",
   "pygments_lexer": "ipython3",
   "version": "3.11.7"
  }
 },
 "nbformat": 4,
 "nbformat_minor": 5
}
